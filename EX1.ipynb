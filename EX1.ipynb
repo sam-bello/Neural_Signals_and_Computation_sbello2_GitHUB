{
  "nbformat": 4,
  "nbformat_minor": 0,
  "metadata": {
    "colab": {
      "provenance": [],
      "authorship_tag": "ABX9TyP/mblWfLVzZCRsWLLLXtLV",
      "include_colab_link": true
    },
    "kernelspec": {
      "name": "python3",
      "display_name": "Python 3"
    },
    "language_info": {
      "name": "python"
    }
  },
  "cells": [
    {
      "cell_type": "markdown",
      "metadata": {
        "id": "view-in-github",
        "colab_type": "text"
      },
      "source": [
        "<a href=\"https://colab.research.google.com/github/sam-bello/Neural_Signals_and_Computation_sbello2_GitHUB/blob/main/EX1.ipynb\" target=\"_parent\"><img src=\"https://colab.research.google.com/assets/colab-badge.svg\" alt=\"Open In Colab\"/></a>"
      ]
    },
    {
      "cell_type": "code",
      "execution_count": 36,
      "metadata": {
        "colab": {
          "base_uri": "https://localhost:8080/"
        },
        "id": "bn6Z0hFmt6Zj",
        "outputId": "d05b5d6d-d091-41ec-ccbf-354b81999798"
      },
      "outputs": [
        {
          "output_type": "stream",
          "name": "stdout",
          "text": [
            "Reading package lists... Done\n",
            "Building dependency tree... Done\n",
            "Reading state information... Done\n",
            "octave is already the newest version (6.4.0-2).\n",
            "0 upgraded, 0 newly installed, 0 to remove and 45 not upgraded.\n",
            "Cloning into 'Neural_Signals_and_Computation_sbello2_GitHUB'...\n",
            "remote: Enumerating objects: 11, done.\u001b[K\n",
            "remote: Counting objects: 100% (11/11), done.\u001b[K\n",
            "remote: Compressing objects: 100% (11/11), done.\u001b[K\n",
            "remote: Total 11 (delta 2), reused 0 (delta 0), pack-reused 0\u001b[K\n",
            "Receiving objects: 100% (11/11), 4.19 KiB | 715.00 KiB/s, done.\n",
            "Resolving deltas: 100% (2/2), done.\n"
          ]
        }
      ],
      "source": [
        "!apt install octave\n",
        "!git clone https://github.com/sam-bello/Neural_Signals_and_Computation_sbello2_GitHUB"
      ]
    },
    {
      "cell_type": "code",
      "metadata": {
        "id": "PnBFM2oSkxSu",
        "colab": {
          "base_uri": "https://localhost:8080/"
        },
        "outputId": "fb86a608-7554-406f-ee1c-34c05d11c665"
      },
      "source": [
        "# -W : no window system\n",
        "import os\n",
        "from google.colab import drive\n",
        "#drive.mount('/content/drive')\n",
        "os.chdir('/content/drive/MyDrive')\n",
        "os.chdir('Neural_Signals_and_Computation_sbello2_GitHUB')\n",
        "!octave -W sbello2_main_exercise_1.m"
      ],
      "execution_count": 37,
      "outputs": [
        {
          "output_type": "stream",
          "name": "stdout",
          "text": [
            "error: imfinfo: unable to find file 'TEST_MOVIE_00001-small-motion.tif'\n",
            "error: called from\n",
            "    imageIO at line 80 column 5\n",
            "    imfinfo at line 166 column 8\n",
            "    sbello2_problem_1_exercise_1 at line 3 column 10\n",
            "    sbello2_main_exercise_1 at line 7 column 18\n"
          ]
        }
      ]
    },
    {
      "cell_type": "markdown",
      "source": [
        "1B: The correlation peaks at the center of the frame and at the top of the frame also.\n",
        "\n",
        "2A: The cells in the mean and median summary images are quite noisy/blurry. There are few cells visible in the variance summary image, but the cells that are visible, have a much higher relative brightness compared to the background.\n",
        "\n",
        "2B: A good summary statistiv should show the location of cells, if those cells are active during the experiment, and if any of those cells go through significant changes in activity during the experiment. Thus, I chose range and standard deviation as additional statistics to try. Range did a good job of showing the location of cells and their changes in activity across the recording, but standard deviation only really showed the location of a few active cells.\n",
        "\n",
        "3B: A way to asses the performance of the roi script it to draw every roi by hand through careful inspection and compute the average error for each corresponding roi between the script and hand-drawn. The error would be pixels for a particular cell/roi that are selected in the script but not in the hand-drawing or selected by the handdrawing but not by the script.\n",
        "\n",
        "4A: My approach was to take the mean pixel value/brightness for the roi for each frame to create the the relative brightness time trace.\n",
        "\n",
        "4B: Yes, I believe that the time-traces reflect the actual activity in the video. One way to validate the results of the calcium imaging is to perform a control experiment with a calcium free image buffer. Another method, is to look for a physiological response. For example, measuring changes in voltage around a neuron.\n",
        "\n",
        "5A: The ROIs are more specific the more PCs you use.\n",
        "\n",
        "5B: It offers better performance than the PCA, fewer of the roi generated are too large/noisy but there is a similar dependance on the rank of the decomposition.\n",
        "\n",
        "5C: While the ICA can generate very pinpoint ROIs, it has a harder time dealing with noise which can cause large errors in the ROIs generated."
      ],
      "metadata": {
        "id": "FtoIwZWO5Ftq"
      }
    }
  ]
}